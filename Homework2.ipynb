{
 "cells": [
  {
   "cell_type": "markdown",
   "metadata": {},
   "source": [
    "# COMM 155 - HW 2"
   ]
  },
  {
   "cell_type": "markdown",
   "metadata": {},
   "source": [
    "Import packages. You will use numpy, nltk, csv, matplotlib and SentimentIntensityAnalyzer (from nltk.sentiment.vader) in HW2."
   ]
  },
  {
   "cell_type": "code",
   "execution_count": 14,
   "metadata": {},
   "outputs": [
    {
     "name": "stdout",
     "output_type": "stream",
     "text": [
      "[nltk_data] Downloading package vader_lexicon to\n",
      "[nltk_data]     /Users/kristentang/nltk_data...\n",
      "[nltk_data]   Package vader_lexicon is already up-to-date!\n",
      "*** Introductory Examples for the NLTK Book ***\n",
      "Loading text1, ..., text9 and sent1, ..., sent9\n",
      "Type the name of the text or sentence to view it.\n",
      "Type: 'texts()' or 'sents()' to list the materials.\n"
     ]
    },
    {
     "name": "stderr",
     "output_type": "stream",
     "text": [
      "/Users/kristentang/anaconda2/envs/python3/lib/python3.6/site-packages/nltk/twitter/__init__.py:20: UserWarning: The twython library has not been installed. Some functionality from the twitter package will not be available.\n",
      "  warnings.warn(\"The twython library has not been installed. \"\n"
     ]
    },
    {
     "name": "stdout",
     "output_type": "stream",
     "text": [
      "text1: Moby Dick by Herman Melville 1851\n",
      "text2: Sense and Sensibility by Jane Austen 1811\n",
      "text3: The Book of Genesis\n",
      "text4: Inaugural Address Corpus\n",
      "text5: Chat Corpus\n",
      "text6: Monty Python and the Holy Grail\n",
      "text7: Wall Street Journal\n",
      "text8: Personals Corpus\n",
      "text9: The Man Who Was Thursday by G . K . Chesterton 1908\n"
     ]
    }
   ],
   "source": [
    "##############################################################################\n",
    "# TODO: Implement this code.                                                 #\n",
    "##############################################################################\n",
    "\n",
    "# import necessary packages\n",
    "import numpy\n",
    "import nltk\n",
    "nltk.download('vader_lexicon')\n",
    "import csv\n",
    "import matplotlib\n",
    "from nltk.sentiment.vader import SentimentIntensityAnalyzer\n",
    "sid = SentimentIntensityAnalyzer()\n",
    "from nltk.book import FreqDist\n",
    "\n",
    "\n",
    "##############################################################################\n",
    "#                             END OF YOUR CODE                               #\n",
    "##############################################################################"
   ]
  },
  {
   "cell_type": "markdown",
   "metadata": {},
   "source": [
    "This function can be used to draw a box plot. \n",
    "\n",
    "rating_list: a list of numeric ratings given in the csv file\n",
    "\n",
    "sentiment_list: a list of sentimeny analysis results obtained by NLTK"
   ]
  },
  {
   "cell_type": "code",
   "execution_count": 15,
   "metadata": {},
   "outputs": [],
   "source": [
    "%matplotlib inline\n",
    "def draw_box_plot(rating_list, sentiment_list):\n",
    "    rset = sorted(set(rating_list))\n",
    "    sentall = []\n",
    "    for r in rset:\n",
    "        sentlist = []\n",
    "        for i, rval in enumerate(rating_list):\n",
    "            if (rval == r):\n",
    "                sentlist.append(sentiment_list[i])\n",
    "        sentall.append(sentlist)\n",
    "\n",
    "    matplotlib.pyplot.figure()\n",
    "    matplotlib.pyplot.boxplot(sentall, labels=rset)\n",
    "    matplotlib.pyplot.xlabel('Ratings')\n",
    "    matplotlib.pyplot.ylabel('Sentiment')\n"
   ]
  },
  {
   "cell_type": "markdown",
   "metadata": {},
   "source": [
    "Read amazon.csv file. You can use the csv.reader function."
   ]
  },
  {
   "cell_type": "code",
   "execution_count": 16,
   "metadata": {},
   "outputs": [],
   "source": [
    "##############################################################################\n",
    "# TODO: Implement this code.                                                 #\n",
    "##############################################################################\n",
    "\n",
    "\n",
    "product_list=[] # product_list contains reviews (for each product, a list containing review + rating)\n",
    "\n",
    "# open a csv file and read it line by line, adding each line to product_list \n",
    "with open('amazon.csv', 'r') as f:\n",
    "    product = csv.reader(f.read().splitlines())\n",
    "    for item in product: \n",
    "        product_list.append(item)\n",
    "\n",
    "del product_list[0] # delete the header\n",
    "##############################################################################\n",
    "#                             END OF YOUR CODE                               #\n",
    "##############################################################################"
   ]
  },
  {
   "cell_type": "markdown",
   "metadata": {},
   "source": [
    "Calculate compound scores using the polarity_scores method. It may take a few minutes."
   ]
  },
  {
   "cell_type": "code",
   "execution_count": 17,
   "metadata": {},
   "outputs": [],
   "source": [
    "##############################################################################\n",
    "# TODO: Implement this code.                                                 #\n",
    "##############################################################################\n",
    "\n",
    "sentiment_scores = [] # list of polarity_scores calculated by SentimentIntensityAnalyzer()\n",
    "rating_scores=[] # list of ratings given by reviewer \n",
    "\n",
    "# add scores to lists for every individual list in product_list \n",
    "for product in product_list: \n",
    "    polarity = sid.polarity_scores(product[0]) # calculate polarity_score using review (first element in individual list) \n",
    "    sentiment_scores.append(polarity.get(\"compound\")) # add polarity_score to sentiment_scores \n",
    "    rating_scores.append(product[1]) # add rating (second element in individual list) to rating_scores \n",
    "\n",
    "##############################################################################\n",
    "#                             END OF YOUR CODE                               #\n",
    "##############################################################################"
   ]
  },
  {
   "cell_type": "markdown",
   "metadata": {},
   "source": [
    "Calculate the correlation between ratings and classified sentiments."
   ]
  },
  {
   "cell_type": "code",
   "execution_count": 18,
   "metadata": {},
   "outputs": [
    {
     "name": "stdout",
     "output_type": "stream",
     "text": [
      "[[1.         0.41715484]\n",
      " [0.41715484 1.        ]]\n"
     ]
    }
   ],
   "source": [
    "##############################################################################\n",
    "# TODO: Implement this code.                                                 #\n",
    "##############################################################################\n",
    "\n",
    "# first, because rating_scores stored score as strings, must convert to int \n",
    "rating_scores_int = [int(float(x)) for x in rating_scores] \n",
    "# use numpy.corrcoef to calculate the correlation between \n",
    "# sentiment_scores (calculated by numpy) and rating_scores (given by reviewer)\n",
    "print(numpy.corrcoef(rating_scores_int, sentiment_scores))\n",
    "\n",
    "##############################################################################\n",
    "#                             END OF YOUR CODE                               #\n",
    "##############################################################################"
   ]
  },
  {
   "cell_type": "markdown",
   "metadata": {},
   "source": [
    "Draw a box plot using draw_box_plot()"
   ]
  },
  {
   "cell_type": "code",
   "execution_count": 19,
   "metadata": {},
   "outputs": [
    {
     "data": {
      "image/png": "[encoded data removed]",
      "text/plain": [
       "<matplotlib.figure.Figure at 0x110f6ad30>"
      ]
     },
     "metadata": {},
     "output_type": "display_data"
    }
   ],
   "source": [
    "##############################################################################\n",
    "# TODO: Implement this code.                                                 #\n",
    "##############################################################################\n",
    "\n",
    "# use provided code for draw_box_plot to create graph compairing scores calculated by numpy and given by reviewer\n",
    "draw_box_plot(rating_scores_int, sentiment_scores) \n",
    "\n",
    "##############################################################################\n",
    "#                             END OF YOUR CODE                               #\n",
    "##############################################################################"
   ]
  },
  {
   "cell_type": "code",
   "execution_count": 106,
   "metadata": {},
   "outputs": [
    {
     "name": "stdout",
     "output_type": "stream",
     "text": [
      "Reviews with most negative sentiment scores: \n",
      "1.) i moved to PA from GA last june and i thought i would have to get my hair cut back off because my hair became dry and fragile. after a month or 2, i had finally got my dry and thirsty hair under control. well i thought i did at first. but after a couple months went by, the winter came and my hair be...\n",
      "2.) OMG this product name/claims make it APPEAR to be &#34;natural&#34;, but its made out of horrible chemicals:.... Claims &#34;No Ammonia, No resorcinol, No parabens &#34; So what?...it contains:peg-2 oleamine, aqua (purified watter), cocamide dea, alcohol denat (alcohol), propylene glycol, oleic acid...\n",
      "3.) OMG... this is horrible!!!! My baby doesnt have a sensitive skin... but when I put this on her face... OMG she broke out so much, received the worst rash I have ever seen! How is this possible and what in the world is in this thing... shouldnt this be sensitive towards a babys skin? What toxins are ...\n",
      "\n",
      " Reviews with most positive sentiment scores: \n",
      "1.) I absolutely love body oils and use them all the time -Grapeseed oil, coconut oil, sweet almond oil and pure vitmain E oils (Jason Naturals is the best for vitamin E oil) all of it my skin just drinks in and loves, so when I saw this product I was really intrigued.It's been a long time since I've us...\n",
      "2.) This Skin Obsession line is terrific.  (BTW I had written a review for their 20% peel which I highly recommend, depending on what level of peel you should be using.)Since upgrading to the 25% peel - well first of all, I don't see or feel a significant difference between the 20% + 25%.  Glad I gradua...\n",
      "3.) Great foundation. I have oily skin, but I don't have any problems with this makeup and I don't use powder either.  This foundation is oil free. It lasts all day. It gives very good coverage.  I've tried Revlon Colorstay.  It lasts all day, too, but it's a heavier feeling formula. It doesn't blend in...\n",
      "\n",
      "Words uniquely associated with reviews with most negative sentiment scores:\n",
      "['damaged', 'No', 'hate', 'helped', 'NOT', 'reaction', 'went', 'winter', 'wet', 'awful', 'mess', 'pots', 'became', 'month', 'protein', 'moisturizing', '1', 'DO', 'pain', 'disappointed', 'gross', 'taste', 'stopped', 'reason', 'seen', 'horrible', 'parabens', 'badly', 'allergic', 'ingredient', 'broke', 'Will', 'underarms', 'stop', 'tiny', 'sticky', 'either', 'order', 'completely', 'normally', 'TIGI', 'reading', 'forever', 'glitter', 'Pamprin', 'describe', 'why', 'worse', 'working', 'moisture', 'mushy', '2b', 'anymore', 'curls', 'says', 'treatment', 'wont', 'worst', 'rash', 'excited', 'real', 'within', 'similar', 'plus', 'Do', 'smaller']\n",
      "\n",
      "Words uniquely associated with reviews with most positive sentiment scores:\n",
      "['vitamin', 'oils', 'wrinkles', 'peel', 'C', 'acid', 'area', 'either', 'blend', 'Oil', 'areas', 'wet', \"'\", 'read']\n"
     ]
    }
   ],
   "source": [
    "# ANALYSIS for amazon reviews\n",
    "\n",
    "# create a list of lists containing the sentiment score, rating score, and review\n",
    "# list (comparison) is sorted in ascending order by sentiment score \n",
    "pre_comparison = []\n",
    "for i in range(len(rating_scores_int)): \n",
    "    pre_comparison.append([sentiment_scores[i], rating_scores_int[i], product_list[i][0]])\n",
    "comparison=sorted(pre_comparison)\n",
    "\n",
    "# create a string (negatives) containing the reviews of the 50 most negative reviews\n",
    "# create a string (positives) containing the reviews of the 50 most positive reviews\n",
    "negatives= \"\"\n",
    "positives = \"\"\n",
    "for i in range(50): \n",
    "    negatives += comparison[i][2]\n",
    "    positives += comparison[-i-1][2]\n",
    "\n",
    "### EXAMPLES OF REVIEWS THAT RECEIVED LOW SENTIMENT SCORES ###\n",
    "# print the first 300 characters of the 3 reviews with the lowest sentiment score   \n",
    "print (\"Reviews with most negative sentiment scores: \")\n",
    "for i in range(3): \n",
    "    print (\"{}.) {}...\".format(i+1, comparison[i][2][0:300]))\n",
    "\n",
    "### EXAMPLES OF REVIEWS THAT RECEIVED HIGH SENTIMENT SCORES ###  \n",
    "# print the first 300 characters of the 3 reviews with the highest sentiment score     \n",
    "print (\"\\n Reviews with most positive sentiment scores: \")\n",
    "for i in range(3): \n",
    "    print (\"{}.) {}...\".format(i+1, comparison[-i-1][2][0:300]))\n",
    "\n",
    "# create a string containing all of the reviews \n",
    "product_2 = \"\"\n",
    "for i in range(len(product_list)): \n",
    "    product_2 += product_list[i][0] \n",
    "\n",
    "# tokenize words in string (most negative, most positive, and all reviews) \n",
    "product_tokens = nltk.word_tokenize(product_2)    \n",
    "negative_tokens = nltk.word_tokenize(negatives)\n",
    "positive_tokens = nltk.word_tokenize(positives)\n",
    "\n",
    "# create nltk text out of tokens (most negative, most positive, and all reviews) \n",
    "product_text = nltk.Text(product_tokens)\n",
    "negative_text = nltk.Text(negative_tokens)\n",
    "positive_text = nltk.Text(positive_tokens)\n",
    "\n",
    "# create a frequency distribution of nltk words(most negative, most positive, and all reviews) \n",
    "product_fdist=FreqDist(product_text)\n",
    "negative_fdist=FreqDist(negative_text)\n",
    "positive_fdist=FreqDist(positive_text)\n",
    "\n",
    "# find the 500 most common words to appear in all of the reviews \n",
    "product_common= []\n",
    "for i in range(500): \n",
    "    product_common.append(product_fdist.most_common(500)[i][0])\n",
    "product_common= set(product_common)\n",
    "\n",
    "### PRINT WORDS WHOSE PRESENCE ARE CORRELATED WITH SENTIMENT SCORES ###\n",
    "# find the 300 most common words to appear in 50 most negative reviews\n",
    "# print the words that are uniquely associated with reviews with most negative sentiment scores\n",
    "\n",
    "\"\"\"\" \n",
    "these words are among the 300 most common words to appear in the negative reviews but not among \n",
    "the most common overall words. want to avoid including words that are recurring in negative reviews \n",
    "simply because they are common among the reviews in general \n",
    "\"\"\"\n",
    "unique_negatives= []\n",
    "for i in range(300): \n",
    "    n = negative_fdist.most_common(300)[i][0]\n",
    "    if n not in product_common :\n",
    "        unique_negatives.append(n)\n",
    "\n",
    "print (\"\\nWords uniquely associated with reviews with most negative sentiment scores:\")\n",
    "print (unique_negatives)\n",
    "\n",
    "# find the 300 most common words to appear in 50 most positive reviews\n",
    "# print the words that are uniquely associated with reviews with most positive sentiment scores\n",
    "\n",
    "\"\"\"\" \n",
    "these words are among the 300 most common words to appear in the positive reviews but not among \n",
    "the most common overall words. want to avoid including words that are recurring in positive reviews \n",
    "simply because they are common among the reviews in general \n",
    "\"\"\"\n",
    "unique_positives= []\n",
    "for i in range(300): \n",
    "    n = positive_fdist.most_common(300)[i][0]\n",
    "    if n not in product_common :\n",
    "        unique_positives.append(n)\n",
    "print (\"\\nWords uniquely associated with reviews with most positive sentiment scores:\")\n",
    "print (unique_positives)"
   ]
  },
  {
   "cell_type": "markdown",
   "metadata": {
    "collapsed": true
   },
   "source": [
    "Repeat the same analysis for movie.csv and beer.csv separately."
   ]
  },
  {
   "cell_type": "code",
   "execution_count": 41,
   "metadata": {},
   "outputs": [
    {
     "name": "stdout",
     "output_type": "stream",
     "text": [
      "[[1.         0.39781475]\n",
      " [0.39781475 1.        ]]\n"
     ]
    },
    {
     "data": {
      "image/png": "[encoded data removed]",
      "text/plain": [
       "<matplotlib.figure.Figure at 0x10f208898>"
      ]
     },
     "metadata": {},
     "output_type": "display_data"
    }
   ],
   "source": [
    "# MOVIE.CSV\n",
    "\n",
    "# running the same code, except opening movie.csv and renaming variables \n",
    "\n",
    "movie_list=[]\n",
    "\n",
    "with open('movie.csv', 'r') as f:\n",
    "    movie = csv.reader(f.read().splitlines())\n",
    "    for m in movie: \n",
    "        movie_list.append(m)\n",
    "\n",
    "del movie_list[0]\n",
    "\n",
    "movie_sentiment_scores = []\n",
    "movie_rating_scores=[]\n",
    "\n",
    "for movie in movie_list: \n",
    "    movie_polarity = sid.polarity_scores(movie[0])\n",
    "    movie_sentiment_scores.append(movie_polarity.get(\"compound\"))\n",
    "    movie_rating_scores.append(movie[1])\n",
    "\n",
    "movie_rating_scores_int = [int(float(x)) for x in movie_rating_scores]\n",
    "print(numpy.corrcoef(movie_rating_scores_int, movie_sentiment_scores))\n",
    "draw_box_plot(movie_rating_scores_int, movie_sentiment_scores) \n"
   ]
  },
  {
   "cell_type": "code",
   "execution_count": 107,
   "metadata": {},
   "outputs": [
    {
     "name": "stdout",
     "output_type": "stream",
     "text": [
      "Reviews with most negative sentiment scores: \n",
      "1.)  I've been waiting and waiting for this. Now I can get the DVD Season Sets.<br /><br />Right now I have the Cartoon Network's [adult swim] made for TV recorded on my PC. The [adult swim] episodes run from season 1 to season 3 and season 3 is just a partial set. It's missing episodes: 050 - The Book ...\n",
      "2.)  I give this movie 1 star it would have gotten half a star but that is not an option.<br /><br />Tyler Perry's first problem was relying on Janet Jackson to carry the film. She is not the greatest actress in the world and I understand that her brother Michael Jackson died while she made this movie, ...\n",
      "3.)  I have never been one of those viewers who are into serial killer films. I find most of them sickening and quite a few have a bit more gore than I like in my films--and not enough suspense. There are the few exceptions: And one of these is the South Korean thriller \"H\". However, this film does have...\n",
      "\n",
      " Reviews with most positive sentiment scores: \n",
      "1.)  A fantastic and magical family film, \"Mary Poppins\" continues to be a Disney classic that would win five Academy Awards and would be remembered for being a film that combined Disney's cartoon animation and real characters, the film debut of Julie Andrews but most of all, the spectacular chemistry a...\n",
      "2.)  J.J. Abrams has not made a lot of films, but each film has been very good, embracing the genre and giving fans something to celebrate. Even \"Mission Impossible III\", derided because of Cruise's shenanigans, was very good, better than the first two installments. But each film has been a stepping sto...\n",
      "3.)  Love or Loyalty<br /><br /> Kuldip Kumar Garhwal<br /><br /> When we talk about Love, don't we think about two persons love towards each other with loyalty? Love and loyalty are interrelated. The pillars of love are made by the bricks of loyalty. Love and Loyalty go together. But it is not true in ...\n",
      "\n",
      "Words uniquely associated with reviews with most negative sentiment scores:\n",
      "['+', 'W.', 'Part', 'href=', 'http', '/a', 'Murder', 'death', '1', 'Jack', 'kill', 'slasher', 'Carter', 'father', 'murder', 'completely', 'Why', 'Date', 'killed', 'child', 'boy', 'case', 'given', 'guy', 'audience', 'cut', 'Director', 'group', 'stupid', 'friends', 'cop', 'horrible', 'killings', 'reason', 'Saw', 'At', 'later', 'theatrical', 'black', 'W', 'Richard', 'serial', 'Shin', 'police', 'detectives', 'script', 'Lynley']\n",
      "\n",
      "Words uniquely associated with reviews with most positive sentiment scores:\n",
      "['Poppins', 'Clark', 'Disney', 'Abrams', 'Super', 'Joe', 'Julie', 'Andrews', 'musical', '*', 'future', 'b/w', 'Season', '10', 'Steven', 'Dyke', 'Sherman', 'commentary', 'Walt', 'Stevens', 'Dick', 'Van', 'color', 'wanted', 'cool', '`', 'Crowe', 'season']\n"
     ]
    }
   ],
   "source": [
    "# ANALYSIS for beer reviews\n",
    "\n",
    "# running the same analysis but using different variables\n",
    "\n",
    "pre_movie_comparison = []\n",
    "for i in range(len(beer_rating_scores_int)): \n",
    "    pre_movie_comparison.append([movie_sentiment_scores[i], movie_rating_scores_int[i], movie_list[i][0]])\n",
    "movie_comparison=sorted(pre_movie_comparison)\n",
    "\n",
    "movie_negatives= \"\"\n",
    "movie_positives = \"\"\n",
    "for i in range(50): \n",
    "    movie_negatives += movie_comparison[i][2]\n",
    "    movie_positives += movie_comparison[-i-1][2]\n",
    "    \n",
    "print (\"Reviews with most negative sentiment scores: \")\n",
    "for i in range(3): \n",
    "    print (\"{}.) {}...\".format(i+1, movie_comparison[i][2][0:300]))\n",
    "    \n",
    "print (\"\\n Reviews with most positive sentiment scores: \")\n",
    "for i in range(3): \n",
    "    print (\"{}.) {}...\".format(i+1, movie_comparison[-i-1][2][0:300]))\n",
    "\n",
    "movie_product_2 = \"\"\n",
    "for i in range(len(movie_list)): \n",
    "    movie_product_2 += movie_list[i][0] \n",
    "    \n",
    "movie_product_tokens = nltk.word_tokenize(movie_product_2)    \n",
    "movie_negative_tokens = nltk.word_tokenize(movie_negatives)\n",
    "movie_positive_tokens = nltk.word_tokenize(movie_positives)\n",
    "\n",
    "movie_product_text = nltk.Text(movie_product_tokens)\n",
    "movie_negative_text = nltk.Text(movie_negative_tokens)\n",
    "movie_positive_text = nltk.Text(movie_positive_tokens)\n",
    "\n",
    "movie_product_fdist=FreqDist(movie_product_text)\n",
    "movie_negative_fdist=FreqDist(movie_negative_text)\n",
    "movie_positive_fdist=FreqDist(movie_positive_text)\n",
    "\n",
    "movie_product_common= []\n",
    "for i in range(500): \n",
    "    movie_product_common.append(movie_product_fdist.most_common(500)[i][0])\n",
    "movie_product_common= set(movie_product_common)\n",
    "\n",
    "movie_unique_negatives= []\n",
    "for i in range(300): \n",
    "    movie_n = movie_negative_fdist.most_common(300)[i][0]\n",
    "    if movie_n not in movie_product_common :\n",
    "        movie_unique_negatives.append(movie_n)\n",
    "print (\"\\nWords uniquely associated with reviews with most negative sentiment scores:\")\n",
    "print (movie_unique_negatives)\n",
    "\n",
    "movie_unique_positives= []\n",
    "for i in range(300): \n",
    "    movie_n = movie_positive_fdist.most_common(300)[i][0]\n",
    "    if movie_n not in movie_product_common :\n",
    "        movie_unique_positives.append(movie_n)\n",
    "print (\"\\nWords uniquely associated with reviews with most positive sentiment scores:\")\n",
    "print (movie_unique_positives)"
   ]
  },
  {
   "cell_type": "code",
   "execution_count": 34,
   "metadata": {},
   "outputs": [
    {
     "name": "stdout",
     "output_type": "stream",
     "text": [
      "[[1.         0.51653668]\n",
      " [0.51653668 1.        ]]\n"
     ]
    },
    {
     "data": {
      "image/png": "[encoded data removed]",
      "text/plain": [
       "<matplotlib.figure.Figure at 0x1188a5ac8>"
      ]
     },
     "metadata": {},
     "output_type": "display_data"
    }
   ],
   "source": [
    "# BEER.CSV\n",
    "\n",
    "# running the same code, except opening beer.csv and renaming the variables \n",
    "\n",
    "beer_list=[]\n",
    "\n",
    "with open('beer.csv', 'r') as f:\n",
    "    beer = csv.reader(f.read().splitlines())\n",
    "    for b in beer: \n",
    "        beer_list.append(b)\n",
    "\n",
    "del beer_list[0]\n",
    "\n",
    "beer_sentiment_scores = []\n",
    "beer_rating_scores=[]\n",
    "\n",
    "for beer in beer_list: \n",
    "    beer_polarity = sid.polarity_scores(beer[0])\n",
    "    beer_sentiment_scores.append(beer_polarity.get(\"compound\"))\n",
    "    beer_rating_scores.append(beer[1])\n",
    "\n",
    "beer_rating_scores_int = [int(float(x)) for x in beer_rating_scores]\n",
    "print(numpy.corrcoef(beer_rating_scores_int, beer_sentiment_scores))\n",
    "draw_box_plot(beer_rating_scores_int, beer_sentiment_scores) "
   ]
  },
  {
   "cell_type": "code",
   "execution_count": 35,
   "metadata": {},
   "outputs": [
    {
     "name": "stdout",
     "output_type": "stream",
     "text": [
      "Reviews with most negative sentiment scores: \n",
      "1.) Thin yellowish beige head. Hazy light amber body with carbonation. Sugary malty musty aroma with notes of cabbage and alcohol. Dry-sweet malt and vomit taste with fruity chocolate and cabbage notes. Lots of alcohol heat. Somehow this violently disagreed with me. My tasting notes end &quot;HATED IT! ...\n",
      "2.) Coarse lace above somewhat creamy, white, medium-sized head. Clear copper body. Aroma is standard Ringnes caramel malts with some butter. Taste is buttery caramel with skunked hops (from a can!). Some bitterness, but no proper aftertaste. This is very, very poor.  Has to be one of the worst pilsener...\n",
      "3.) Small white head quickly disappears, leaving only thin ring round the edge. Copper body, with some ongoing carbonation. Aroma is watery and unbalanced, but brings up many associations. Strong butter odour with roasty caramel notes and maybe a touch of wood and metal. It's really bad, but I'm saving ...\n",
      "\n",
      " Reviews with most positive sentiment scores: \n",
      "1.) Small dark brown head doesn&#8217;t last, but shrinks into a thin ring. Opaque black body goes dark brown at edges. Intense sweet toffeeish chocolate liquor aroma with notes of coffee, bread, and ripe fruit. Very harmonic and balanced, despite the clear alcohol presence.Deep, intense sweet chocolate...\n",
      "2.) Big, white creamy head subsides slowly, leaving stray strange lacing on the glass. Clear copper body. Harmonic aroma of straw, some caramel malts, and noble hops. The straw is quite prominent, but somehow without really being offensive. Taste is sweet straw with strong noble hop notes, and some vege...\n",
      "3.) Medium dark brown creamy head with larger bubbles. Utterly opaque black body. Deep, sweet aroma of burnt licorice, coffee, and wild berries, with notes of bread and oil. Very harmonic; I could just sit and smell this for ever. Deep, sweet, burnt taste of chocolate, hops, and roastiness. Burnt marzip...\n",
      "\n",
      "Words uniquely associated with reviews with most negative sentiment scores:\n",
      "['copper', 'unpleasant', 'ring', 'Harsh', 'Ringnes', 'think', 'Boring', 'coarse-laced', 'water', 's', 'poor', 'leaving', 'only', 'something', 'because', 'sure', 'completely', 'end', 'unbalanced', 'Notes', 'socks', 'hints', 'did', 'makes', 'rating', 'here', 'or', 'successful', 'Lviv', \"'d\", 'both', 'point', 'Awful', 'pleasant', 'stuff', 'normal', 'Hardly', 'hard', 'cabbage', 'vomit', 'violently', 'Would', 'hate', 'lace', 'standard', 'Has', 'round', 'will', 'disgusting', 'film', 'want', 'my', 'afterwards', 'say', 'rather', 'apples', 'Mouthfeel', 'Complex', 'somehow', 'm', 'may']\n",
      "\n",
      "Words uniquely associated with reviews with most positive sentiment scores:\n",
      "['harmony', 'settles', 'amazing', 'raisins', 'intensely', 'would', 'Fantastic', 'subsides', 'Probably', 'spices', 'dryish', 'distinct', 'gingery', 'Mouthfeel', 'Also', 'lot', 'my', 'beers', 'slowly', 'glass', 'Norwegian', 'nicely', \"'ve\", 'surprisingly', 'porter', 'cake', 'smokiness', 'ginger', 'clarity', 'pudding', 'syrup', 'SuperBrugsen', 'Ordrup', 'let', 'Dense', 'Wonderfully', 'Smoky', 'Amazing', 'flowers', 'juniper']\n"
     ]
    }
   ],
   "source": [
    "# ANALYSIS for movie reviews\n",
    "\n",
    "# running the same analysis but using different variables\n",
    "\n",
    "pre_beer_comparison = []\n",
    "for i in range(len(beer_rating_scores_int)): \n",
    "    pre_beer_comparison.append([beer_sentiment_scores[i], beer_rating_scores_int[i], beer_list[i][0]])\n",
    "beer_comparison=sorted(pre_beer_comparison)\n",
    "    \n",
    "beer_negatives= \"\"\n",
    "beer_positives = \"\"\n",
    "for i in range(50): \n",
    "    beer_negatives += beer_comparison[i][2]\n",
    "    \n",
    "for i in range(50):\n",
    "    beer_positives += beer_comparison[-i-1][2]\n",
    "    \n",
    "print (\"Reviews with most negative sentiment scores: \")\n",
    "for i in range(3): \n",
    "    print (\"{}.) {}...\".format(i+1, beer_comparison[i][2][0:300]))\n",
    "    \n",
    "print (\"\\n Reviews with most positive sentiment scores: \")\n",
    "for i in range(3): \n",
    "    print (\"{}.) {}...\".format(i+1, beer_comparison[-i-1][2][0:300]))\n",
    "\n",
    "beer_product_2 = \"\"\n",
    "for i in range(len(beer_list)): \n",
    "    beer_product_2 += beer_list[i][0] \n",
    "    \n",
    "beer_product_tokens = nltk.word_tokenize(beer_product_2)    \n",
    "beer_negative_tokens = nltk.word_tokenize(beer_negatives)\n",
    "beer_positive_tokens = nltk.word_tokenize(beer_positives)\n",
    "\n",
    "beer_product_text = nltk.Text(beer_product_tokens)\n",
    "beer_negative_text = nltk.Text(beer_negative_tokens)\n",
    "beer_positive_text = nltk.Text(beer_positive_tokens)\n",
    "\n",
    "beer_product_fdist=FreqDist(beer_product_text)\n",
    "beer_negative_fdist=FreqDist(beer_negative_text)\n",
    "beer_positive_fdist=FreqDist(beer_positive_text)\n",
    "\n",
    "beer_product_common= []\n",
    "for i in range(500): \n",
    "    beer_product_common.append(beer_product_fdist.most_common(500)[i][0])\n",
    "beer_product_common= set(beer_product_common)\n",
    "\n",
    "beer_unique_negatives= []\n",
    "for i in range(300): \n",
    "    beer_n = beer_negative_fdist.most_common(300)[i][0]\n",
    "    if beer_n not in beer_product_common :\n",
    "        beer_unique_negatives.append(beer_n)\n",
    "print (\"\\nWords uniquely associated with reviews with most negative sentiment scores:\")\n",
    "print (beer_unique_negatives)\n",
    "\n",
    "beer_unique_positives= []\n",
    "for i in range(300): \n",
    "    beer_n = beer_positive_fdist.most_common(300)[i][0]\n",
    "    if beer_n not in beer_product_common :\n",
    "        beer_unique_positives.append(beer_n)\n",
    "print (\"\\nWords uniquely associated with reviews with most positive sentiment scores:\")\n",
    "print (beer_unique_positives)\n",
    "\n"
   ]
  },
  {
   "cell_type": "code",
   "execution_count": 36,
   "metadata": {},
   "outputs": [
    {
     "name": "stdout",
     "output_type": "stream",
     "text": [
      "[[1.         0.59138809]\n",
      " [0.59138809 1.        ]]\n"
     ]
    },
    {
     "data": {
      "image/png": "[encoded data removed]",
      "text/plain": [
       "<matplotlib.figure.Figure at 0x118631c50>"
      ]
     },
     "metadata": {},
     "output_type": "display_data"
    }
   ],
   "source": [
    "# UMBRELLA.CSV\n",
    "\n",
    "# running the same code, except opening umbrella.csv and renaming variables \n",
    "\n",
    "umbrella_list=[]\n",
    "\n",
    "with open('umbrella.csv', 'r', encoding=\"utf8\", errors='ignore') as f:\n",
    "    umbrella = csv.reader(f.read().splitlines())\n",
    "    for u in umbrella: \n",
    "        umbrella_list.append(u)\n",
    "\n",
    "del umbrella_list[0]\n",
    "\n",
    "umbrella_sentiment_scores = []\n",
    "umbrella_rating_scores=[]\n",
    "\n",
    "for umbrella in umbrella_list: \n",
    "    if umbrella[5] == \"\": \n",
    "        umbrella_polarity = sid.polarity_scores(umbrella[4])\n",
    "    else: \n",
    "        umbrella_polarity = sid.polarity_scores(umbrella[5])\n",
    "    umbrella_sentiment_scores.append(umbrella_polarity.get(\"compound\"))\n",
    "    umbrella_rating_scores.append(umbrella[0])\n",
    "\n",
    "umbrella_rating_scores_int = [int(float(x)) for x in umbrella_rating_scores]\n",
    "print(numpy.corrcoef(umbrella_rating_scores_int, umbrella_sentiment_scores))\n",
    "draw_box_plot(umbrella_rating_scores_int, umbrella_sentiment_scores) \n",
    "\n",
    "\n"
   ]
  },
  {
   "cell_type": "code",
   "execution_count": 50,
   "metadata": {},
   "outputs": [
    {
     "name": "stdout",
     "output_type": "stream",
     "text": [
      "Reviews with most negative sentiment scores: \n",
      "1.) Failed on me in a bad way - had only used it a dozen times, suddenly it would not close.  I had a long bus ride with an open umbrella.  Would have thrown it away but weather was bad at destination and I had a mile walk once there....\n",
      "2.) I very rarely write reviews, but I felt this deserved one.  The first time I used this umbrella, it flipped inside out within thirty seconds of opening it, rendering it useless for its intended purpose. I was drenched, and very unhappy.  Will be returning (another thing I very rarely do)....\n",
      "3.) One thunderstorm and the umbrella is already broken. Not sure if we got a dud, but have no idea how this is rated so highly. Windproof claim is completely inaccurate. Would not recommend....\n",
      "\n",
      " Reviews with most positive sentiment scores: \n",
      "1.) I've just bought it because of the rainy season in IN but already had an opportunity to test the quality of the purchase. It's totally awesome! This umbrella protects me from rain drops on all sides while being very comfortable in use and compact for carriage. Apart from being excellent shield from ...\n",
      "2.) I bought this about a year ago but didn't use it for more than a couple of weeks total.It still works just fine, but the umbrella itself isn't any more &#34;windproof&#34; than generic packable umbrellas from my school's gift store. The metallic part that extends feels very flimsy and sways with str...\n",
      "3.) I received the Repel windproof umbrella and so far really like it.  It's compact and fits in my backpack easily.  It rained recently and I had the chance to try it out.  It worked great. It was not a windy day so I can't say yet how it would work in a windy situation. But anyway, I just pressed the ...\n",
      "\n",
      "Words uniquely associated with reviews with most negative sentiment scores:\n",
      "['won۪t', 'rarely', 'useless', 'Will', 'claim', 'vacation', 'worst', 'complaints', 'stay', 'tried', 'Because', 'anyway', 'full', 'stainless', 'Failed', 'suddenly', 'bus', 'ride', 'thrown', 'destination', 'mile', 'there.I', 'write', 'deserved', 'flipped', 'thirty', 'seconds', 'intended', 'drenched', 'unhappy', 'returning', '.One', 'thunderstorm', 'dud', 'idea', 'Windproof', 'inaccurate', 'recommend.So', 'turned', 'morning', 'equally', 'poor', 'prongs', 'sorry', 'official', 'name', 'detached', 'days.Brought', 'NYC', 'Easter', 'Afraid', 'Umbrella', '4x', 'minimal..', 'worstI', 'seriously', 'assume', 'fake', 'stopped', 'properly', 'Terrible', 'disappointed.I', 'taking', 'negative', 'heavier', 'expectedUmbrella', 'blew', 'hands', 'ground', 'points', 'Disappointing.The', 'wore', 'started', 'rusting', 'eventually', 'making', 'unusable', 'These', 'emergency', 'daily', 'use.Thing']\n",
      "\n",
      "Words uniquely associated with reviews with most positive sentiment scores:\n",
      "['asked', 'comfortable', 'mind', 'Does', 'benkii', 'chose', 'ship', 'item', '-very', 'cons', 'preference', 'shake', 'life', '$', 'suitcase', 'satisfied', 'it.I', 'always', '50']\n"
     ]
    }
   ],
   "source": [
    "# ANALYSIS for umbrella reviews\n",
    "\n",
    "# running the same analysis but using different variables\n",
    "\n",
    "pre_umbrella_comparison = []\n",
    "for i in range(len(umbrella_rating_scores_int)): \n",
    "\n",
    "    if umbrella_list[i][5]==\"\": \n",
    "        pre_umbrella_comparison.append([umbrella_sentiment_scores[i], umbrella_rating_scores_int[i], umbrella_list[i][4]])\n",
    "    else: \n",
    "        pre_umbrella_comparison.append([umbrella_sentiment_scores[i], umbrella_rating_scores_int[i], umbrella_list[i][5]])\n",
    "    umbrella_comparison=sorted(pre_umbrella_comparison)\n",
    "\n",
    "umbrella_negatives= \"\"\n",
    "umbrella_positives = \"\"\n",
    "for i in range(50): \n",
    "    umbrella_negatives += umbrella_comparison[i][2]\n",
    "    \n",
    "for i in range(50):\n",
    "    umbrella_positives += umbrella_comparison[-i-1][2]\n",
    "    \n",
    "print (\"Reviews with most negative sentiment scores: \")\n",
    "for i in range(3): \n",
    "    print (\"{}.) {}...\".format(i+1, umbrella_comparison[i][2][0:300]))\n",
    "    \n",
    "print (\"\\n Reviews with most positive sentiment scores: \")\n",
    "for i in range(3): \n",
    "    print (\"{}.) {}...\".format(i+1, umbrella_comparison[-i-1][2][0:300]))\n",
    "\n",
    "umbrella_product_2 = \"\"\n",
    "for i in range(len(umbrella_list)): \n",
    "    if umbrella_list[i][5] == \"\": \n",
    "        umbrella_product_2 += umbrella_list[i][4] \n",
    "    else: \n",
    "        umbrella_product_2 += umbrella_list[i][5] \n",
    "    \n",
    "umbrella_product_tokens = nltk.word_tokenize(umbrella_product_2)    \n",
    "umbrella_negative_tokens = nltk.word_tokenize(umbrella_negatives)\n",
    "umbrella_positive_tokens = nltk.word_tokenize(umbrella_positives)\n",
    "\n",
    "umbrella_product_text = nltk.Text(umbrella_product_tokens)\n",
    "umbrella_negative_text = nltk.Text(umbrella_negative_tokens)\n",
    "umbrella_positive_text = nltk.Text(umbrella_positive_tokens)\n",
    "\n",
    "umbrella_product_fdist=FreqDist(umbrella_product_text)\n",
    "umbrella_negative_fdist=FreqDist(umbrella_negative_text)\n",
    "umbrella_positive_fdist=FreqDist(umbrella_positive_text)\n",
    "\n",
    "umbrella_product_common= []\n",
    "for i in range(500): \n",
    "    umbrella_product_common.append(umbrella_product_fdist.most_common(500)[i][0])\n",
    "umbrella_product_common= set(umbrella_product_common)\n",
    "\n",
    "umbrella_unique_negatives= []\n",
    "for i in range(300): \n",
    "    umbrella_n = umbrella_negative_fdist.most_common(300)[i][0]\n",
    "    if umbrella_n not in umbrella_product_common :\n",
    "        umbrella_unique_negatives.append(umbrella_n)\n",
    "print (\"\\nWords uniquely associated with reviews with most negative sentiment scores:\")\n",
    "print (umbrella_unique_negatives)\n",
    "\n",
    "umbrella_unique_positives= []\n",
    "for i in range(300): \n",
    "    umbrella_n = umbrella_positive_fdist.most_common(300)[i][0]\n",
    "    if umbrella_n not in umbrella_product_common :\n",
    "        umbrella_unique_positives.append(umbrella_n)\n",
    "print (\"\\nWords uniquely associated with reviews with most positive sentiment scores:\")\n",
    "print (umbrella_unique_positives)\n",
    "\n",
    "\n",
    "\n"
   ]
  },
  {
   "cell_type": "code",
   "execution_count": null,
   "metadata": {},
   "outputs": [],
   "source": []
  },
  {
   "cell_type": "code",
   "execution_count": null,
   "metadata": {},
   "outputs": [],
   "source": []
  }
 ],
 "metadata": {
  "anaconda-cloud": {},
  "kernelspec": {
   "display_name": "Python 3",
   "language": "python",
   "name": "python3"
  },
  "language_info": {
   "codemirror_mode": {
    "name": "ipython",
    "version": 3
   },
   "file_extension": ".py",
   "mimetype": "text/x-python",
   "name": "python",
   "nbconvert_exporter": "python",
   "pygments_lexer": "ipython3",
   "version": "3.6.5"
  }
 },
 "nbformat": 4,
 "nbformat_minor": 1
}
